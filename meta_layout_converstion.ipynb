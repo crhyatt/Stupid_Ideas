{
 "cells": [
  {
   "cell_type": "code",
   "execution_count": 1,
   "metadata": {
    "collapsed": true,
    "pycharm": {
     "name": "#%%\n"
    }
   },
   "outputs": [],
   "source": [
    "import pyreadstat as pstat\n",
    "import pandas as pd"
   ]
  },
  {
   "cell_type": "code",
   "execution_count": 2,
   "outputs": [],
   "source": [
    "df, meta = pstat.read_sav('/Users/salty/ProjectA/django_project/data/sav/ATP W1.sav', )"
   ],
   "metadata": {
    "collapsed": false,
    "pycharm": {
     "name": "#%%\n"
    }
   }
  },
  {
   "cell_type": "code",
   "execution_count": 3,
   "outputs": [],
   "source": [
    "step1_df = pd.DataFrame.from_records([{'variable': k, 'description': v} for k, v in meta.column_names_to_labels.items()])"
   ],
   "metadata": {
    "collapsed": false,
    "pycharm": {
     "name": "#%%\n"
    }
   }
  },
  {
   "cell_type": "code",
   "execution_count": 4,
   "outputs": [],
   "source": [
    "convertDf = pd.DataFrame({'Variable': meta.variable_to_label.keys(), 'Label': meta.variable_to_label.values()})"
   ],
   "metadata": {
    "collapsed": false,
    "pycharm": {
     "name": "#%%\n"
    }
   }
  },
  {
   "cell_type": "code",
   "execution_count": 5,
   "outputs": [
    {
     "ename": "NameError",
     "evalue": "name 'step2_df' is not defined",
     "output_type": "error",
     "traceback": [
      "\u001B[0;31m---------------------------------------------------------------------------\u001B[0m",
      "\u001B[0;31mNameError\u001B[0m                                 Traceback (most recent call last)",
      "\u001B[0;32m/var/folders/78/d7p7xc8n3lb336jlxqc3jttm0000gn/T/ipykernel_12885/344382669.py\u001B[0m in \u001B[0;36m<module>\u001B[0;34m\u001B[0m\n\u001B[0;32m----> 1\u001B[0;31m \u001B[0mstep2_df\u001B[0m\u001B[0;34m\u001B[0m\u001B[0;34m\u001B[0m\u001B[0m\n\u001B[0m",
      "\u001B[0;31mNameError\u001B[0m: name 'step2_df' is not defined"
     ]
    }
   ],
   "source": [
    "step2_df"
   ],
   "metadata": {
    "collapsed": false,
    "pycharm": {
     "name": "#%%\n"
    }
   }
  },
  {
   "cell_type": "code",
   "execution_count": 6,
   "outputs": [],
   "source": [
    "step2_df = pd.DataFrame(meta.variable_to_label.items(), columns=['variable', 'label'])"
   ],
   "metadata": {
    "collapsed": false,
    "pycharm": {
     "name": "#%%\n"
    }
   }
  },
  {
   "cell_type": "code",
   "execution_count": 7,
   "outputs": [],
   "source": [
    "step3_df = step1_df.merge(step2_df, how='left', on='variable')"
   ],
   "metadata": {
    "collapsed": false,
    "pycharm": {
     "name": "#%%\n"
    }
   }
  },
  {
   "cell_type": "code",
   "execution_count": 8,
   "outputs": [
    {
     "data": {
      "text/plain": "     0             1\n0  1.0  Mobile phone\n1  2.0        Tablet\n2  3.0       Desktop\n3  4.0          CATI\n4  5.0          Mail",
      "text/html": "<div>\n<style scoped>\n    .dataframe tbody tr th:only-of-type {\n        vertical-align: middle;\n    }\n\n    .dataframe tbody tr th {\n        vertical-align: top;\n    }\n\n    .dataframe thead th {\n        text-align: right;\n    }\n</style>\n<table border=\"1\" class=\"dataframe\">\n  <thead>\n    <tr style=\"text-align: right;\">\n      <th></th>\n      <th>0</th>\n      <th>1</th>\n    </tr>\n  </thead>\n  <tbody>\n    <tr>\n      <th>0</th>\n      <td>1.0</td>\n      <td>Mobile phone</td>\n    </tr>\n    <tr>\n      <th>1</th>\n      <td>2.0</td>\n      <td>Tablet</td>\n    </tr>\n    <tr>\n      <th>2</th>\n      <td>3.0</td>\n      <td>Desktop</td>\n    </tr>\n    <tr>\n      <th>3</th>\n      <td>4.0</td>\n      <td>CATI</td>\n    </tr>\n    <tr>\n      <th>4</th>\n      <td>5.0</td>\n      <td>Mail</td>\n    </tr>\n  </tbody>\n</table>\n</div>"
     },
     "execution_count": 8,
     "metadata": {},
     "output_type": "execute_result"
    }
   ],
   "source": [
    "pd.DataFrame.from_dict(list(meta.value_labels.values())[0].items(), )"
   ],
   "metadata": {
    "collapsed": false,
    "pycharm": {
     "name": "#%%\n"
    }
   }
  },
  {
   "cell_type": "code",
   "execution_count": 9,
   "outputs": [],
   "source": [
    "step4_df = pd.DataFrame(meta.value_labels.items(), columns=['label', 'answer'])"
   ],
   "metadata": {
    "collapsed": false,
    "pycharm": {
     "name": "#%%\n"
    }
   }
  },
  {
   "cell_type": "code",
   "execution_count": 10,
   "outputs": [],
   "source": [
    "step5_df = step3_df.merge(step4_df, how='left', on='label')"
   ],
   "metadata": {
    "collapsed": false,
    "pycharm": {
     "name": "#%%\n"
    }
   }
  },
  {
   "cell_type": "code",
   "execution_count": 11,
   "outputs": [
    {
     "data": {
      "text/plain": "                      variable  \\\n0                         QKEY   \n1           NEW_DEVICE_TYPE_W1   \n2                      LANG_W1   \n3                      FORM_W1   \n4                      Q1_1_W1   \n..                         ...   \n374        F_PARTYSUM_TYPOLOGY   \n375            F_IDEO_TYPOLOGY   \n376  F_IDEOCONSISTREC_TYPOLOGY   \n377            F_INTUSER_FINAL   \n378                  WEIGHT_W1   \n\n                                           description      label  \\\n0                                                 Qkey        NaN   \n1                               Wave 1 New Device Type    labels0   \n2                                                 Lang    labels1   \n3                                FORM - FORM Selection    labels2   \n4    Q1. Below is a list of topics that some people...    labels3   \n..                                                 ...        ...   \n374                                      Party summary  labels267   \n375                                           Ideology  labels268   \n376                     Ideological consistency recode  labels269   \n377                          Household internet status  labels270   \n378                                       Final weight        NaN   \n\n                                                answer  \n0                                                  NaN  \n1    {1.0: 'Mobile phone', 2.0: 'Tablet', 3.0: 'Des...  \n2    {0.0: 'Not applicable', 1.0: 'English', 10.0: ...  \n3                       {1.0: 'FORM 1', 2.0: 'FORM 2'}  \n4    {0.0: 'Not selected', 1.0: 'Selected', 99.0: '...  \n..                                                 ...  \n374  {1.0: 'Rep/Lean Rep', 2.0: 'Dem/Lean Dem', 3.0...  \n375  {1.0: 'Very conservative', 2.0: 'Conservative'...  \n376  {1.0: 'Consistent Lib', 2.0: 'Lean Lib', 3.0: ...  \n377   {0.0: 'Not Internet User', 1.0: 'Internet User'}  \n378                                                NaN  \n\n[379 rows x 4 columns]",
      "text/html": "<div>\n<style scoped>\n    .dataframe tbody tr th:only-of-type {\n        vertical-align: middle;\n    }\n\n    .dataframe tbody tr th {\n        vertical-align: top;\n    }\n\n    .dataframe thead th {\n        text-align: right;\n    }\n</style>\n<table border=\"1\" class=\"dataframe\">\n  <thead>\n    <tr style=\"text-align: right;\">\n      <th></th>\n      <th>variable</th>\n      <th>description</th>\n      <th>label</th>\n      <th>answer</th>\n    </tr>\n  </thead>\n  <tbody>\n    <tr>\n      <th>0</th>\n      <td>QKEY</td>\n      <td>Qkey</td>\n      <td>NaN</td>\n      <td>NaN</td>\n    </tr>\n    <tr>\n      <th>1</th>\n      <td>NEW_DEVICE_TYPE_W1</td>\n      <td>Wave 1 New Device Type</td>\n      <td>labels0</td>\n      <td>{1.0: 'Mobile phone', 2.0: 'Tablet', 3.0: 'Des...</td>\n    </tr>\n    <tr>\n      <th>2</th>\n      <td>LANG_W1</td>\n      <td>Lang</td>\n      <td>labels1</td>\n      <td>{0.0: 'Not applicable', 1.0: 'English', 10.0: ...</td>\n    </tr>\n    <tr>\n      <th>3</th>\n      <td>FORM_W1</td>\n      <td>FORM - FORM Selection</td>\n      <td>labels2</td>\n      <td>{1.0: 'FORM 1', 2.0: 'FORM 2'}</td>\n    </tr>\n    <tr>\n      <th>4</th>\n      <td>Q1_1_W1</td>\n      <td>Q1. Below is a list of topics that some people...</td>\n      <td>labels3</td>\n      <td>{0.0: 'Not selected', 1.0: 'Selected', 99.0: '...</td>\n    </tr>\n    <tr>\n      <th>...</th>\n      <td>...</td>\n      <td>...</td>\n      <td>...</td>\n      <td>...</td>\n    </tr>\n    <tr>\n      <th>374</th>\n      <td>F_PARTYSUM_TYPOLOGY</td>\n      <td>Party summary</td>\n      <td>labels267</td>\n      <td>{1.0: 'Rep/Lean Rep', 2.0: 'Dem/Lean Dem', 3.0...</td>\n    </tr>\n    <tr>\n      <th>375</th>\n      <td>F_IDEO_TYPOLOGY</td>\n      <td>Ideology</td>\n      <td>labels268</td>\n      <td>{1.0: 'Very conservative', 2.0: 'Conservative'...</td>\n    </tr>\n    <tr>\n      <th>376</th>\n      <td>F_IDEOCONSISTREC_TYPOLOGY</td>\n      <td>Ideological consistency recode</td>\n      <td>labels269</td>\n      <td>{1.0: 'Consistent Lib', 2.0: 'Lean Lib', 3.0: ...</td>\n    </tr>\n    <tr>\n      <th>377</th>\n      <td>F_INTUSER_FINAL</td>\n      <td>Household internet status</td>\n      <td>labels270</td>\n      <td>{0.0: 'Not Internet User', 1.0: 'Internet User'}</td>\n    </tr>\n    <tr>\n      <th>378</th>\n      <td>WEIGHT_W1</td>\n      <td>Final weight</td>\n      <td>NaN</td>\n      <td>NaN</td>\n    </tr>\n  </tbody>\n</table>\n<p>379 rows × 4 columns</p>\n</div>"
     },
     "execution_count": 11,
     "metadata": {},
     "output_type": "execute_result"
    }
   ],
   "source": [
    "step5_df"
   ],
   "metadata": {
    "collapsed": false,
    "pycharm": {
     "name": "#%%\n"
    }
   }
  },
  {
   "cell_type": "code",
   "execution_count": 13,
   "outputs": [
    {
     "data": {
      "text/plain": "       QKEY  NEW_DEVICE_TYPE_W1  LANG_W1  FORM_W1  Q1_1_W1  Q1_2_W1  Q1_3_W1  \\\n0  100197.0                 3.0      1.0      1.0      1.0      0.0      0.0   \n1  100260.0                 2.0      1.0      1.0      1.0      0.0      0.0   \n2  100314.0                 3.0      1.0      1.0      0.0      0.0      1.0   \n3  100363.0                 3.0      1.0      1.0      0.0      1.0      0.0   \n4  100446.0                 3.0      1.0      1.0      1.0      1.0      1.0   \n\n   Q1_4_W1  Q1_5_W1  Q1_6_W1  ...  F_INCOME_TYPOLOGY  \\\n0      0.0      1.0      1.0  ...                3.0   \n1      0.0      0.0      1.0  ...                4.0   \n2      0.0      0.0      0.0  ...                5.0   \n3      0.0      1.0      1.0  ...                9.0   \n4      1.0      1.0      1.0  ...               10.0   \n\n   F_INCOME_RECODE_TYPOLOGY  F_REG_TYPOLOGY  F_PARTY_TYPOLOGY  \\\n0                       3.0             1.0               2.0   \n1                       2.0             1.0               1.0   \n2                       2.0             1.0               1.0   \n3                       1.0             1.0               2.0   \n4                       9.0             1.0               2.0   \n\n   F_PARTYLN_TYPOLOGY  F_PARTYSUM_TYPOLOGY  F_IDEO_TYPOLOGY  \\\n0                 NaN                  2.0              4.0   \n1                 NaN                  1.0              1.0   \n2                 NaN                  1.0              3.0   \n3                 NaN                  2.0              3.0   \n4                 NaN                  2.0              4.0   \n\n   F_IDEOCONSISTREC_TYPOLOGY  F_INTUSER_FINAL  WEIGHT_W1  \n0                        1.0              1.0   0.482667  \n1                        5.0              1.0   0.213496  \n2                        3.0              1.0   0.770382  \n3                        3.0              1.0   0.833890  \n4                        1.0              1.0   0.430391  \n\n[5 rows x 379 columns]",
      "text/html": "<div>\n<style scoped>\n    .dataframe tbody tr th:only-of-type {\n        vertical-align: middle;\n    }\n\n    .dataframe tbody tr th {\n        vertical-align: top;\n    }\n\n    .dataframe thead th {\n        text-align: right;\n    }\n</style>\n<table border=\"1\" class=\"dataframe\">\n  <thead>\n    <tr style=\"text-align: right;\">\n      <th></th>\n      <th>QKEY</th>\n      <th>NEW_DEVICE_TYPE_W1</th>\n      <th>LANG_W1</th>\n      <th>FORM_W1</th>\n      <th>Q1_1_W1</th>\n      <th>Q1_2_W1</th>\n      <th>Q1_3_W1</th>\n      <th>Q1_4_W1</th>\n      <th>Q1_5_W1</th>\n      <th>Q1_6_W1</th>\n      <th>...</th>\n      <th>F_INCOME_TYPOLOGY</th>\n      <th>F_INCOME_RECODE_TYPOLOGY</th>\n      <th>F_REG_TYPOLOGY</th>\n      <th>F_PARTY_TYPOLOGY</th>\n      <th>F_PARTYLN_TYPOLOGY</th>\n      <th>F_PARTYSUM_TYPOLOGY</th>\n      <th>F_IDEO_TYPOLOGY</th>\n      <th>F_IDEOCONSISTREC_TYPOLOGY</th>\n      <th>F_INTUSER_FINAL</th>\n      <th>WEIGHT_W1</th>\n    </tr>\n  </thead>\n  <tbody>\n    <tr>\n      <th>0</th>\n      <td>100197.0</td>\n      <td>3.0</td>\n      <td>1.0</td>\n      <td>1.0</td>\n      <td>1.0</td>\n      <td>0.0</td>\n      <td>0.0</td>\n      <td>0.0</td>\n      <td>1.0</td>\n      <td>1.0</td>\n      <td>...</td>\n      <td>3.0</td>\n      <td>3.0</td>\n      <td>1.0</td>\n      <td>2.0</td>\n      <td>NaN</td>\n      <td>2.0</td>\n      <td>4.0</td>\n      <td>1.0</td>\n      <td>1.0</td>\n      <td>0.482667</td>\n    </tr>\n    <tr>\n      <th>1</th>\n      <td>100260.0</td>\n      <td>2.0</td>\n      <td>1.0</td>\n      <td>1.0</td>\n      <td>1.0</td>\n      <td>0.0</td>\n      <td>0.0</td>\n      <td>0.0</td>\n      <td>0.0</td>\n      <td>1.0</td>\n      <td>...</td>\n      <td>4.0</td>\n      <td>2.0</td>\n      <td>1.0</td>\n      <td>1.0</td>\n      <td>NaN</td>\n      <td>1.0</td>\n      <td>1.0</td>\n      <td>5.0</td>\n      <td>1.0</td>\n      <td>0.213496</td>\n    </tr>\n    <tr>\n      <th>2</th>\n      <td>100314.0</td>\n      <td>3.0</td>\n      <td>1.0</td>\n      <td>1.0</td>\n      <td>0.0</td>\n      <td>0.0</td>\n      <td>1.0</td>\n      <td>0.0</td>\n      <td>0.0</td>\n      <td>0.0</td>\n      <td>...</td>\n      <td>5.0</td>\n      <td>2.0</td>\n      <td>1.0</td>\n      <td>1.0</td>\n      <td>NaN</td>\n      <td>1.0</td>\n      <td>3.0</td>\n      <td>3.0</td>\n      <td>1.0</td>\n      <td>0.770382</td>\n    </tr>\n    <tr>\n      <th>3</th>\n      <td>100363.0</td>\n      <td>3.0</td>\n      <td>1.0</td>\n      <td>1.0</td>\n      <td>0.0</td>\n      <td>1.0</td>\n      <td>0.0</td>\n      <td>0.0</td>\n      <td>1.0</td>\n      <td>1.0</td>\n      <td>...</td>\n      <td>9.0</td>\n      <td>1.0</td>\n      <td>1.0</td>\n      <td>2.0</td>\n      <td>NaN</td>\n      <td>2.0</td>\n      <td>3.0</td>\n      <td>3.0</td>\n      <td>1.0</td>\n      <td>0.833890</td>\n    </tr>\n    <tr>\n      <th>4</th>\n      <td>100446.0</td>\n      <td>3.0</td>\n      <td>1.0</td>\n      <td>1.0</td>\n      <td>1.0</td>\n      <td>1.0</td>\n      <td>1.0</td>\n      <td>1.0</td>\n      <td>1.0</td>\n      <td>1.0</td>\n      <td>...</td>\n      <td>10.0</td>\n      <td>9.0</td>\n      <td>1.0</td>\n      <td>2.0</td>\n      <td>NaN</td>\n      <td>2.0</td>\n      <td>4.0</td>\n      <td>1.0</td>\n      <td>1.0</td>\n      <td>0.430391</td>\n    </tr>\n  </tbody>\n</table>\n<p>5 rows × 379 columns</p>\n</div>"
     },
     "execution_count": 13,
     "metadata": {},
     "output_type": "execute_result"
    }
   ],
   "source": [
    "df.head()\n"
   ],
   "metadata": {
    "collapsed": false,
    "pycharm": {
     "name": "#%%\n"
    }
   }
  },
  {
   "cell_type": "code",
   "execution_count": 66,
   "outputs": [
    {
     "data": {
      "text/plain": "0       1.0\n1       1.0\n2       NaN\n3       NaN\n4       1.0\n       ... \n3303    NaN\n3304    1.0\n3305    1.0\n3306    1.0\n3307    NaN\nName: Q53_2_W1_num, Length: 3308, dtype: float64"
     },
     "execution_count": 66,
     "metadata": {},
     "output_type": "execute_result"
    }
   ],
   "source": [
    "df['Q53_2_W1_num']"
   ],
   "metadata": {
    "collapsed": false,
    "pycharm": {
     "name": "#%%\n"
    }
   }
  },
  {
   "cell_type": "code",
   "execution_count": null,
   "outputs": [],
   "source": [],
   "metadata": {
    "collapsed": false,
    "pycharm": {
     "name": "#%%\n"
    }
   }
  }
 ],
 "metadata": {
  "kernelspec": {
   "display_name": "Python 3",
   "language": "python",
   "name": "python3"
  },
  "language_info": {
   "codemirror_mode": {
    "name": "ipython",
    "version": 2
   },
   "file_extension": ".py",
   "mimetype": "text/x-python",
   "name": "python",
   "nbconvert_exporter": "python",
   "pygments_lexer": "ipython2",
   "version": "2.7.6"
  }
 },
 "nbformat": 4,
 "nbformat_minor": 0
}